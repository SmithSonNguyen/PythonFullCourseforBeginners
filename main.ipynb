{
 "cells": [
  {
   "cell_type": "markdown",
   "id": "ac3fde12",
   "metadata": {},
   "source": [
    "# String"
   ]
  },
  {
   "cell_type": "markdown",
   "id": "a72ae223",
   "metadata": {},
   "source": [
    "## ''' ''' \n",
    "String nhiều dòng"
   ]
  },
  {
   "cell_type": "code",
   "execution_count": null,
   "id": "9557e702",
   "metadata": {},
   "outputs": [],
   "source": [
    "course = ''' \n",
    "Hi John,\n",
    "I write 123\n",
    "See you soon.\n",
    "'''\n",
    "print(course)"
   ]
  },
  {
   "cell_type": "markdown",
   "id": "40b55ba0",
   "metadata": {},
   "source": [
    "## Index trong String\n",
    "```\n",
    "s = 'Python for Beginner'\n",
    "     0123456...\n",
    "                    -2-1\n",
    "print(s[0]) => P\n",
    "\n",
    "print(s[-1]) => r\n",
    "print(s[-2]) => e\n",
    "\n",
    "print(s[0:3]) => Pyt (chỉ chạy từ [0,3) )\n",
    "print(s[0:]) => Python for Beginner (Lấy từ index 0 đến hết)\n",
    "print(s[:5]) => Pytho (lấy từ [0,5) )\n",
    "\n",
    "another = s[:] => Tạo 1 bản sao của chuỗi s rồi gán cho another\n",
    "\n",
    "print(s[1:-1]) => ython for Beginne (chạy từ index=1 của dương tới index=-1 của âm, ko lấy index=-1)\n",
    "```\n",
    "\n",
    "## a=s[:] khác với a=s\n",
    "s1 = [1, 2, 3]  \n",
    "a = s1      # Không sao chép, chỉ gán tham chiếu  \n",
    "b = s1[:]   # Tạo một bản sao mới  \n",
    "- a thay đổi thì s1 cũng bị ảnh hưởng:  \n",
    "a[0] = 100  \n",
    "print(s1)  # [100, 2, 3]  \n",
    "- b = s[:], thì bạn có bản sao độc lập:  \n",
    "b[0] = 999  \n",
    "print(s1)  # [1, 2, 3]  \n",
    "print(b)  # [999, 2, 3]  \n"
   ]
  },
  {
   "cell_type": "code",
   "execution_count": 16,
   "id": "12ded0f8",
   "metadata": {},
   "outputs": [
    {
     "name": "stdout",
     "output_type": "stream",
     "text": [
      "P\n",
      "r\n",
      "e\n",
      "Python\n",
      "for Beginner\n",
      "Pytho\n",
      "ython for Beginne\n",
      "-----------------a=s[i] với a=s------------------------------------------\n",
      "Dùng a=s1\n",
      "[100, 2, 3]\n",
      "[100, 2, 3]\n",
      "Dùng b=s1[:]\n",
      "[1, 2, 3]\n",
      "[999, 2, 3]\n",
      "-------------------------------------------------------------------------\n"
     ]
    }
   ],
   "source": [
    "s = 'Python for Beginner'\n",
    "print(s[0]) # P\n",
    "\n",
    "print(s[-1]) # r\n",
    "print(s[-2]) # e\n",
    "\n",
    "print(s[0:6]) # Python\n",
    "print(s[7:]) # for Beginner\n",
    "print(s[:5]) # Pytho\n",
    "\n",
    "print(s[1:-1])\n",
    "\n",
    "# a=s[i] khác a=s\n",
    "print('-----------------a=s[i] với a=s------------------------------------------')\n",
    "s1 = [1, 2, 3]\n",
    "a = s1\n",
    "b = s1[:]\n",
    "print('Dùng a=s1')\n",
    "a[0] = 100\n",
    "print(s1)\n",
    "print(a)\n",
    "print('Dùng b=s1[:]')\n",
    "s1 = [1, 2, 3] #quay về trạng thái ban đầu\n",
    "b[0] = 999\n",
    "print(s1)\n",
    "print(b)\n",
    "print('-------------------------------------------------------------------------')\n"
   ]
  },
  {
   "cell_type": "markdown",
   "id": "4d63a4cc",
   "metadata": {},
   "source": []
  }
 ],
 "metadata": {
  "kernelspec": {
   "display_name": "Python 3",
   "language": "python",
   "name": "python3"
  },
  "language_info": {
   "codemirror_mode": {
    "name": "ipython",
    "version": 3
   },
   "file_extension": ".py",
   "mimetype": "text/x-python",
   "name": "python",
   "nbconvert_exporter": "python",
   "pygments_lexer": "ipython3",
   "version": "3.12.8"
  }
 },
 "nbformat": 4,
 "nbformat_minor": 5
}
