{
 "cells": [
  {
   "cell_type": "markdown",
   "id": "ac3fde12",
   "metadata": {},
   "source": [
    "# String"
   ]
  },
  {
   "cell_type": "markdown",
   "id": "a72ae223",
   "metadata": {},
   "source": [
    "## ''' ''' \n",
    "String nhiều dòng"
   ]
  },
  {
   "cell_type": "code",
   "execution_count": null,
   "id": "9557e702",
   "metadata": {},
   "outputs": [],
   "source": [
    "course = ''' \n",
    "Hi John,\n",
    "I write 123\n",
    "See you soon.\n",
    "'''\n",
    "print(course)"
   ]
  },
  {
   "cell_type": "markdown",
   "id": "40b55ba0",
   "metadata": {},
   "source": [
    "## Index trong String\n",
    "```\n",
    "s = 'Python for Beginner'\n",
    "     0123456...\n",
    "                    -2-1\n",
    "print(s[0]) => P\n",
    "\n",
    "print(s[-1]) => r\n",
    "print(s[-2]) => e\n",
    "\n",
    "print(s[0:3]) => Pyt (chỉ chạy từ [0,3) )\n",
    "print(s[0:]) => Python for Beginner (Lấy từ index 0 đến hết)\n",
    "print(s[:5]) => Pytho (lấy từ [0,5) )\n",
    "\n",
    "another = s[:] => Tạo 1 bản sao của chuỗi s rồi gán cho another\n",
    "\n",
    "print(s[1:-1]) => ython for Beginne (chạy từ index=1 của dương tới index=-1 của âm, ko lấy index=-1)\n",
    "```\n",
    "\n",
    "## a=s[:] khác với a=s\n",
    "s1 = [1, 2, 3]  \n",
    "a = s1      # Không sao chép, chỉ gán tham chiếu  \n",
    "b = s1[:]   # Tạo một bản sao mới  \n",
    "- a thay đổi thì s1 cũng bị ảnh hưởng:  \n",
    "a[0] = 100  \n",
    "print(s1)  # [100, 2, 3]  \n",
    "- b = s[:], thì bạn có bản sao độc lập:  \n",
    "b[0] = 999  \n",
    "print(s1)  # [1, 2, 3]  \n",
    "print(b)  # [999, 2, 3]  \n"
   ]
  },
  {
   "cell_type": "code",
   "execution_count": 16,
   "id": "12ded0f8",
   "metadata": {},
   "outputs": [
    {
     "name": "stdout",
     "output_type": "stream",
     "text": [
      "P\n",
      "r\n",
      "e\n",
      "Python\n",
      "for Beginner\n",
      "Pytho\n",
      "ython for Beginne\n",
      "-----------------a=s[i] với a=s------------------------------------------\n",
      "Dùng a=s1\n",
      "[100, 2, 3]\n",
      "[100, 2, 3]\n",
      "Dùng b=s1[:]\n",
      "[1, 2, 3]\n",
      "[999, 2, 3]\n",
      "-------------------------------------------------------------------------\n"
     ]
    }
   ],
   "source": [
    "s = 'Python for Beginner'\n",
    "print(s[0]) # P\n",
    "\n",
    "print(s[-1]) # r\n",
    "print(s[-2]) # e\n",
    "\n",
    "print(s[0:6]) # Python\n",
    "print(s[7:]) # for Beginner\n",
    "print(s[:5]) # Pytho\n",
    "\n",
    "print(s[1:-1])\n",
    "\n",
    "# a=s[i] khác a=s\n",
    "print('-----------------a=s[i] với a=s------------------------------------------')\n",
    "s1 = [1, 2, 3]\n",
    "a = s1\n",
    "b = s1[:]\n",
    "print('Dùng a=s1')\n",
    "a[0] = 100\n",
    "print(s1)\n",
    "print(a)\n",
    "print('Dùng b=s1[:]')\n",
    "s1 = [1, 2, 3] #quay về trạng thái ban đầu\n",
    "b[0] = 999\n",
    "print(s1)\n",
    "print(b)\n",
    "print('-------------------------------------------------------------------------')\n"
   ]
  },
  {
   "cell_type": "markdown",
   "id": "609a5fcf",
   "metadata": {},
   "source": [
    "# Formatted String (hay f-string)\n",
    "Cách chèn giá trị của biến trực tiếp vào chuỗi 1 cách rõ ràng, dễ đọc, ngắn ngọn.  \n",
    "```\n",
    "first = 'John'\n",
    "last = 'Smith'\n",
    "msg = f'{first} [{last}] is a coder'\n",
    "```"
   ]
  },
  {
   "cell_type": "code",
   "execution_count": 19,
   "id": "e63be542",
   "metadata": {},
   "outputs": [
    {
     "name": "stdout",
     "output_type": "stream",
     "text": [
      "John [Smith] is a coder\n"
     ]
    }
   ],
   "source": [
    "first = 'John'\n",
    "last = 'Smith'\n",
    "msg = f'{first} [{last}] is a coder'\n",
    "print(msg)"
   ]
  },
  {
   "cell_type": "markdown",
   "id": "0c841c1c",
   "metadata": {},
   "source": [
    "# String Methods\n",
    "`len()`: Tính lenght có bao nhiêu kí tự (có tính space)  \n",
    "When a function belongs to something else , or is specific to some kind of object => Method\n",
    "- Ex: course.upper() => upper() is method, Nó sẽ `tạo ra 1 bản sao và ghi hoa lên hết. Không làm ảnh hưởng tới bản chính`  \n",
    "\n",
    "Ngược lại func nào không bị phụ thuộc vào bất kì kinds of objects => Func  \n",
    "- Ex: print(), len()  \n",
    "\n",
    "`.find('P')`: Trả về vị trí kí tự P đầu tiền từ trái qua (có phân biệt kí tự hoa với thường)  \n",
    "`.replace(...)`:  \n",
    "`'...' in course`: Trả về T|F (dạng này cũng như .find nhưng trả về T|F)\n"
   ]
  },
  {
   "cell_type": "code",
   "execution_count": null,
   "id": "fc14c2b2",
   "metadata": {},
   "outputs": [
    {
     "name": "stdout",
     "output_type": "stream",
     "text": [
      "20\n",
      "PYTHON FOR BEGINNERS\n",
      "python for beginners\n",
      "0\n",
      "11\n",
      "Python for Absolute Beginners\n",
      "-------------\n",
      "True\n",
      "False\n"
     ]
    }
   ],
   "source": [
    "course = 'Python for Beginners'\n",
    "print(len(course)) # 20\n",
    "print(course.upper()) # PYTHON FOR BEGINNERS (ghi hoa toàn bộ)\n",
    "print(course.lower()) # python for beginners (ghi thường toàn bộ)\n",
    "print(course.find('P')) # 0 (vị trí của chữ P)\n",
    "print(course.find('Beginners')) # 11 (vị trí đầu tiên của chữ Beginners)\n",
    "print(course.replace('Beginners', 'Absolute Beginners')) # Python for Absolute Beginners\n",
    "\n",
    "print('-------------')\n",
    "print('Python' in course) # True\n",
    "print('Pytho1' in course) # False"
   ]
  },
  {
   "cell_type": "markdown",
   "id": "be509822",
   "metadata": {},
   "source": [
    "# Arithmetic Operations - Các phép toán số học\n",
    "`print(10/3)`= 3.33333333 (float)  \n",
    "`print(10//3)` = 3 (chỉ lấy phần nguyên, ko làm tròn)  \n",
    "`print(11%3)` = 2 (lấy phần dư)  \n",
    "`print(10 ** 3)` = 10^3  \n",
    "  \n",
    "`x+=3` <=> `x=x+3`(dấu trừ `-=` tương tự)"
   ]
  },
  {
   "cell_type": "code",
   "execution_count": 32,
   "id": "3a77f444",
   "metadata": {},
   "outputs": [
    {
     "name": "stdout",
     "output_type": "stream",
     "text": [
      "2\n",
      "1000\n"
     ]
    }
   ],
   "source": [
    "print(11%3)\n",
    "print(10 ** 3)"
   ]
  }
 ],
 "metadata": {
  "kernelspec": {
   "display_name": "Python 3",
   "language": "python",
   "name": "python3"
  },
  "language_info": {
   "codemirror_mode": {
    "name": "ipython",
    "version": 3
   },
   "file_extension": ".py",
   "mimetype": "text/x-python",
   "name": "python",
   "nbconvert_exporter": "python",
   "pygments_lexer": "ipython3",
   "version": "3.12.8"
  }
 },
 "nbformat": 4,
 "nbformat_minor": 5
}
