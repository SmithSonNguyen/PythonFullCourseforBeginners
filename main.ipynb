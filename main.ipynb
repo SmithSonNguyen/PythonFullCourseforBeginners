{
 "cells": [
  {
   "cell_type": "markdown",
   "id": "ac3fde12",
   "metadata": {},
   "source": [
    "# String"
   ]
  },
  {
   "cell_type": "markdown",
   "id": "a72ae223",
   "metadata": {},
   "source": [
    "## ''' ''' \n",
    "String nhiều dòng"
   ]
  },
  {
   "cell_type": "code",
   "execution_count": null,
   "id": "9557e702",
   "metadata": {},
   "outputs": [],
   "source": [
    "course = ''' \n",
    "Hi John,\n",
    "I write 123\n",
    "See you soon.\n",
    "'''\n",
    "print(course)"
   ]
  },
  {
   "cell_type": "markdown",
   "id": "40b55ba0",
   "metadata": {},
   "source": [
    "## Index trong String\n",
    "```\n",
    "s = 'Python for Beginner'\n",
    "     0123456...\n",
    "                    -2-1\n",
    "print(s[0]) => P\n",
    "\n",
    "print(s[-1]) => r\n",
    "print(s[-2]) => e\n",
    "\n",
    "print(s[0:3]) => Pyt (chỉ chạy từ [0,3) )\n",
    "print(s[0:]) => Python for Beginner (Lấy từ index 0 đến hết)\n",
    "print(s[:5]) => Pytho (lấy từ [0,5) )\n",
    "\n",
    "another = s[:] => Tạo 1 bản sao của chuỗi s rồi gán cho another\n",
    "\n",
    "print(s[1:-1]) => ython for Beginne (chạy từ index=1 của dương tới index=-1 của âm, ko lấy index=-1)\n",
    "```\n",
    "\n",
    "## a=s[:] khác với a=s\n",
    "s1 = [1, 2, 3]  \n",
    "a = s1      # Không sao chép, chỉ gán tham chiếu  \n",
    "b = s1[:]   # Tạo một bản sao mới  \n",
    "- a thay đổi thì s1 cũng bị ảnh hưởng:  \n",
    "a[0] = 100  \n",
    "print(s1)  # [100, 2, 3]  \n",
    "- b = s[:], thì bạn có bản sao độc lập:  \n",
    "b[0] = 999  \n",
    "print(s1)  # [1, 2, 3]  \n",
    "print(b)  # [999, 2, 3]  \n"
   ]
  },
  {
   "cell_type": "code",
   "execution_count": 16,
   "id": "12ded0f8",
   "metadata": {},
   "outputs": [
    {
     "name": "stdout",
     "output_type": "stream",
     "text": [
      "P\n",
      "r\n",
      "e\n",
      "Python\n",
      "for Beginner\n",
      "Pytho\n",
      "ython for Beginne\n",
      "-----------------a=s[i] với a=s------------------------------------------\n",
      "Dùng a=s1\n",
      "[100, 2, 3]\n",
      "[100, 2, 3]\n",
      "Dùng b=s1[:]\n",
      "[1, 2, 3]\n",
      "[999, 2, 3]\n",
      "-------------------------------------------------------------------------\n"
     ]
    }
   ],
   "source": [
    "s = 'Python for Beginner'\n",
    "print(s[0]) # P\n",
    "\n",
    "print(s[-1]) # r\n",
    "print(s[-2]) # e\n",
    "\n",
    "print(s[0:6]) # Python\n",
    "print(s[7:]) # for Beginner\n",
    "print(s[:5]) # Pytho\n",
    "\n",
    "print(s[1:-1])\n",
    "\n",
    "# a=s[i] khác a=s\n",
    "print('-----------------a=s[i] với a=s------------------------------------------')\n",
    "s1 = [1, 2, 3]\n",
    "a = s1\n",
    "b = s1[:]\n",
    "print('Dùng a=s1')\n",
    "a[0] = 100\n",
    "print(s1)\n",
    "print(a)\n",
    "print('Dùng b=s1[:]')\n",
    "s1 = [1, 2, 3] #quay về trạng thái ban đầu\n",
    "b[0] = 999\n",
    "print(s1)\n",
    "print(b)\n",
    "print('-------------------------------------------------------------------------')\n"
   ]
  },
  {
   "cell_type": "markdown",
   "id": "609a5fcf",
   "metadata": {},
   "source": [
    "# Formatted String (hay f-string)\n",
    "Cách chèn giá trị của biến trực tiếp vào chuỗi 1 cách rõ ràng, dễ đọc, ngắn ngọn.  \n",
    "```\n",
    "first = 'John'\n",
    "last = 'Smith'\n",
    "msg = f'{first} [{last}] is a coder'\n",
    "```"
   ]
  },
  {
   "cell_type": "code",
   "execution_count": 19,
   "id": "e63be542",
   "metadata": {},
   "outputs": [
    {
     "name": "stdout",
     "output_type": "stream",
     "text": [
      "John [Smith] is a coder\n"
     ]
    }
   ],
   "source": [
    "first = 'John'\n",
    "last = 'Smith'\n",
    "msg = f'{first} [{last}] is a coder'\n",
    "print(msg)"
   ]
  },
  {
   "cell_type": "markdown",
   "id": "0c841c1c",
   "metadata": {},
   "source": [
    "# String Methods\n",
    "`len()`: Tính lenght có bao nhiêu kí tự (có tính space)  \n",
    "When a function belongs to something else , or is specific to some kind of object => Method\n",
    "- Ex: course.upper() => upper() is method, Nó sẽ `tạo ra 1 bản sao và ghi hoa lên hết. Không làm ảnh hưởng tới bản chính`  \n",
    "\n",
    "Ngược lại func nào không bị phụ thuộc vào bất kì kinds of objects => Func  \n",
    "- Ex: print(), len()  \n",
    "\n",
    "`.find('P')`: Trả về vị trí kí tự P đầu tiền từ trái qua (có phân biệt kí tự hoa với thường)  \n",
    "`.replace(...)`:  \n",
    "`'...' in course`: Trả về T|F (dạng này cũng như .find nhưng trả về T|F)\n"
   ]
  },
  {
   "cell_type": "code",
   "execution_count": null,
   "id": "fc14c2b2",
   "metadata": {},
   "outputs": [
    {
     "name": "stdout",
     "output_type": "stream",
     "text": [
      "20\n",
      "PYTHON FOR BEGINNERS\n",
      "python for beginners\n",
      "0\n",
      "11\n",
      "Python for Absolute Beginners\n",
      "-------------\n",
      "True\n",
      "False\n"
     ]
    }
   ],
   "source": [
    "course = 'Python for Beginners'\n",
    "print(len(course)) # 20\n",
    "print(course.upper()) # PYTHON FOR BEGINNERS (ghi hoa toàn bộ)\n",
    "print(course.lower()) # python for beginners (ghi thường toàn bộ)\n",
    "print(course.find('P')) # 0 (vị trí của chữ P)\n",
    "print(course.find('Beginners')) # 11 (vị trí đầu tiên của chữ Beginners)\n",
    "print(course.replace('Beginners', 'Absolute Beginners')) # Python for Absolute Beginners\n",
    "\n",
    "print('-------------')\n",
    "print('Python' in course) # True\n",
    "print('Pytho1' in course) # False"
   ]
  },
  {
   "cell_type": "markdown",
   "id": "be509822",
   "metadata": {},
   "source": [
    "# Arithmetic Operations - Các phép toán số học\n",
    "`print(10/3)`= 3.33333333 (float)  \n",
    "`print(10//3)` = 3 (chỉ lấy phần nguyên, ko làm tròn)  \n",
    "`print(11%3)` = 2 (lấy phần dư)  \n",
    "`print(10 ** 3)` = 10^3  \n",
    "  \n",
    "`x+=3` <=> `x=x+3`(dấu trừ `-=` tương tự)"
   ]
  },
  {
   "cell_type": "code",
   "execution_count": 32,
   "id": "3a77f444",
   "metadata": {},
   "outputs": [
    {
     "name": "stdout",
     "output_type": "stream",
     "text": [
      "2\n",
      "1000\n"
     ]
    }
   ],
   "source": [
    "print(11%3)\n",
    "print(10 ** 3)"
   ]
  },
  {
   "cell_type": "markdown",
   "id": "c7a420bc",
   "metadata": {},
   "source": [
    "# Operator Precedence - Thứ tự ưu tiên của các toán tử\n",
    "Thứ tự ưu tiên trên xuống:  \n",
    "- Dấu ngoặc\n",
    "- Exponentiation (Mũ): `2 ** 3`\n",
    "- Mul or Div  \n",
    "- Add or Sub   \n",
    "\n",
    "\n",
    "`print(10 + 3 * 2)`: Nhân chia trước, cộng trừ sau  \n",
    "\n"
   ]
  },
  {
   "cell_type": "markdown",
   "id": "7424f6c0",
   "metadata": {},
   "source": [
    "# Math Functions (Full Docs: python 3 math module)\n",
    "`round(2.9)`= 3 (làm tròn lên)  \n",
    "`abs(-2.9)` = 2.9 (trị tuyệt đối)  \n",
    "  \n",
    "`import math`  \n",
    "`math.ceil(2.9) = 3` (Làm tròn lên số nguyên gần nhất lớn hơn hoặc bằng số được truyền vào)  \n",
    "`math.floor(2.9) = 2` (làm tròn xuống số nguyên gần nhất nhỏ hơn hoặc bằng số được truyền vào.)  \n",
    "  \n"
   ]
  },
  {
   "cell_type": "markdown",
   "id": "be559dac",
   "metadata": {},
   "source": [
    "# If Statements  \n",
    "```\n",
    "if điều_kiện_1:\n",
    "    # Nếu điều_kiện_1 đúng → chạy khối này\n",
    "elif điều_kiện_2:\n",
    "    # Nếu điều_kiện_1 sai và điều_kiện_2 đúng → chạy khối này\n",
    "else:\n",
    "    # Nếu tất cả điều kiện trên đều sai → chạy khối này\n",
    "```"
   ]
  },
  {
   "cell_type": "markdown",
   "id": "c3b62ebe",
   "metadata": {},
   "source": [
    "# Logical Operators\n",
    "## `and`\n",
    "Trả về True nếu **ALL=True**  \n",
    "```python\n",
    "age = 20\n",
    "has_id = True\n",
    "\n",
    "if age >= 18 and has_id:\n",
    "    print(\"Được vào rạp\")\n",
    "# 👉 Output: Được vào rạp\n",
    "```\n",
    "## `or`\n",
    "Trả về True nếu **At_Least_1 = True** \n",
    "```python\n",
    "is_admin = False\n",
    "is_moderator = True\n",
    "\n",
    "if is_admin or is_moderator:\n",
    "    print(\"Bạn có quyền truy cập\")\n",
    "# 👉 Output: Bạn có quyền truy cập\n",
    "```\n",
    "## `not`\n",
    "**Đảo ngược giá trị logic**: True thành False, False thành True.  \n",
    "```python\n",
    "is_banned = False\n",
    "\n",
    "if not is_banned:\n",
    "    print(\"Bạn được phép bình luận\")\n",
    "# 👉 Output: Bạn được phép bình luận\n",
    "```"
   ]
  },
  {
   "cell_type": "markdown",
   "id": "50ed45c4",
   "metadata": {},
   "source": [
    "# Comparison Operators - Toán tử so sánh\n",
    "**So sánh hai giá trị**.  \n",
    "Kết quả sẽ trả về `True` hoặc `False`.\n",
    "\n",
    "---\n",
    "\n",
    "## 📋 Danh sách các toán tử:\n",
    "\n",
    "| Toán tử | Ý nghĩa               | Ví dụ     |\n",
    "|---------|------------------------|-----------|\n",
    "| `==`    | Bằng                  | `a == b`  |\n",
    "| `!=`    | Không bằng            | `a != b`  |\n",
    "| `>`     | Lớn hơn               | `a > b`   |\n",
    "| `<`     | Nhỏ hơn               | `a < b`   |\n",
    "| `>=`    | Lớn hơn hoặc bằng     | `a >= b`  |\n",
    "| `<=`    | Nhỏ hơn hoặc bằng     | `a <= b`  |\n",
    "\n",
    "---\n",
    "\n",
    "## 🔹 Ví dụ cụ thể:\n",
    "\n",
    "```python\n",
    "a = 10\n",
    "b = 20\n",
    "\n",
    "print(a == b)   # False - 10 không bằng 20\n",
    "print(a != b)   # True  - 10 khác 20\n",
    "print(a < b)    # True  - 10 nhỏ hơn 20\n",
    "print(a > b)    # False - 10 không lớn hơn 20\n",
    "print(a <= 10)  # True  - 10 nhỏ hơn hoặc bằng 10\n",
    "print(b >= 15)  # True  - 20 lớn hơn hoặc bằng 15\n",
    "```"
   ]
  },
  {
   "cell_type": "markdown",
   "id": "c9b557c1",
   "metadata": {},
   "source": [
    "# Project: Weight Converter Program"
   ]
  },
  {
   "cell_type": "code",
   "execution_count": null,
   "id": "6fe74522",
   "metadata": {},
   "outputs": [],
   "source": [
    "weight = int(input('Weight: '))\n",
    "unit = input('(L)bs or (K)g: ')\n",
    "if unit.upper() == 'L':\n",
    "  converted = weight * 0.45\n",
    "  print(f\"You are {converted} kilos\")\n",
    "else:\n",
    "  converted = weight / 0.45\n",
    "  print(f\"You are {converted} pounds\")"
   ]
  },
  {
   "cell_type": "markdown",
   "id": "dc762dd7",
   "metadata": {},
   "source": [
    "# While Loops\n",
    "```python\n",
    "i = 1\n",
    "while i <= 5:\n",
    "    print(i)\n",
    "    i += 1\n",
    "print(\"Done\")\n",
    "```\n",
    "-----------------------------------------\n",
    "Vẽ tam giác *  \n",
    "```plaintext\n",
    "*  \n",
    "**  \n",
    "***  \n",
    "****  \n",
    "*****  \n",
    "```\n",
    "```python\n",
    "i = 1\n",
    "while i <= 5:\n",
    "    print('*' * i)\n",
    "    i += 1\n",
    "print(\"Done\")\n",
    "```"
   ]
  },
  {
   "cell_type": "markdown",
   "metadata": {},
   "source": [
    "# Building a Guessing Game\n",
    "```python\n",
    "secret_number = 9\n",
    "guess_count = 0\n",
    "guess_limit = 3\n",
    "while guess_count < guess_limit:\n",
    "    guess = int(input(\"'Guess: \"))\n",
    "    guess_count += 1\n",
    "    if guess == secret_number:\n",
    "        print(\"You won!\")\n",
    "        break\n",
    "else:\n",
    "    print('Sorry. You failed!')\n",
    "```"
   ]
  },
  {
   "cell_type": "markdown",
   "id": "b9875e2b",
   "metadata": {},
   "source": [
    "# For Loops\n",
    "## in \"Python\""
   ]
  },
  {
   "cell_type": "code",
   "execution_count": 1,
   "id": "848cbf2b",
   "metadata": {},
   "outputs": [
    {
     "name": "stdout",
     "output_type": "stream",
     "text": [
      "P\n",
      "y\n",
      "t\n",
      "h\n",
      "o\n",
      "n\n"
     ]
    }
   ],
   "source": [
    "for item in \"Python\":\n",
    "    print(item)"
   ]
  },
  {
   "cell_type": "markdown",
   "id": "d1acbb3d",
   "metadata": {},
   "source": [
    "## in ['A', 'B']"
   ]
  },
  {
   "cell_type": "code",
   "execution_count": 2,
   "id": "00d94a24",
   "metadata": {},
   "outputs": [
    {
     "name": "stdout",
     "output_type": "stream",
     "text": [
      "Mosh\n",
      "John\n",
      "Sarah\n"
     ]
    }
   ],
   "source": [
    "for item in ['Mosh', 'John', 'Sarah']:\n",
    "    print(item)"
   ]
  },
  {
   "cell_type": "markdown",
   "id": "9908370f",
   "metadata": {},
   "source": [
    "## in [1, 2]"
   ]
  },
  {
   "cell_type": "code",
   "execution_count": 3,
   "id": "37b015ee",
   "metadata": {},
   "outputs": [
    {
     "name": "stdout",
     "output_type": "stream",
     "text": [
      "1\n",
      "2\n",
      "3\n",
      "4\n"
     ]
    }
   ],
   "source": [
    "for item in [1, 2, 3, 4]:\n",
    "    print(item)"
   ]
  },
  {
   "cell_type": "markdown",
   "id": "b77e4407",
   "metadata": {},
   "source": [
    "## Range\n",
    "range(5) => [0, 5)  \n",
    "range(5, 10) => [5, 10)  \n",
    "range(5, 10, `2`) => Thêm `bước nhảy = 2`"
   ]
  },
  {
   "cell_type": "code",
   "execution_count": 7,
   "metadata": {},
   "outputs": [
    {
     "name": "stdout",
     "output_type": "stream",
     "text": [
      "0\n",
      "1\n",
      "2\n",
      "3\n",
      "4\n",
      "------------------------\n",
      "5\n",
      "6\n",
      "7\n",
      "8\n",
      "9\n",
      "------------------------\n",
      "5\n",
      "7\n",
      "9\n"
     ]
    }
   ],
   "source": [
    "for item in range(5):\n",
    "    print(item)\n",
    "print('------------------------')\n",
    "for item in range(5, 10):\n",
    "    print(item)\n",
    "print('------------------------')\n",
    "for item in range(5, 10, 2):\n",
    "    print(item)"
   ]
  },
  {
   "cell_type": "markdown",
   "id": "535656ae",
   "metadata": {},
   "source": [
    "## Example"
   ]
  },
  {
   "cell_type": "code",
   "execution_count": 8,
   "id": "cf3acc26",
   "metadata": {},
   "outputs": [
    {
     "name": "stdout",
     "output_type": "stream",
     "text": [
      "Total = 60\n"
     ]
    }
   ],
   "source": [
    "prices = [10, 20, 30]\n",
    "total = 0\n",
    "\n",
    "for price in prices:\n",
    "    total += price\n",
    "\n",
    "print(f\"Total = {total}\")"
   ]
  },
  {
   "cell_type": "markdown",
   "id": "3a37a853",
   "metadata": {},
   "source": [
    "# Nested Loops - Vòng lặp lồng nhau"
   ]
  },
  {
   "cell_type": "code",
   "execution_count": 9,
   "id": "974ce4d6",
   "metadata": {},
   "outputs": [
    {
     "name": "stdout",
     "output_type": "stream",
     "text": [
      "(0, 0)\n",
      "(0, 1)\n",
      "(0, 2)\n",
      "(1, 0)\n",
      "(1, 1)\n",
      "(1, 2)\n",
      "(2, 0)\n",
      "(2, 1)\n",
      "(2, 2)\n",
      "(3, 0)\n",
      "(3, 1)\n",
      "(3, 2)\n"
     ]
    }
   ],
   "source": [
    "for x in range(4):\n",
    "    for y in range(3):\n",
    "        print(f'({x}, {y})')"
   ]
  },
  {
   "cell_type": "markdown",
   "id": "4b3f66c4",
   "metadata": {},
   "source": [
    "# List\n",
    "## https://www.w3schools.com/python/python_lists.asp"
   ]
  },
  {
   "cell_type": "code",
   "execution_count": 13,
   "id": "1955e797",
   "metadata": {},
   "outputs": [
    {
     "name": "stdout",
     "output_type": "stream",
     "text": [
      "['John', 'Bob', 'Mosh', 'Sarah', 'Mary']\n",
      "Bob\n",
      "Mary\n",
      "---------------Cập nhập lại giá trị --------------------\n",
      "['Tom', 'Bob', 'Mosh', 'Sarah', 'Mary']\n"
     ]
    }
   ],
   "source": [
    "names = ['John', 'Bob', 'Mosh', 'Sarah', 'Mary']\n",
    "print(names)\n",
    "print(names[1])\n",
    "print(names[-1])\n",
    "\n",
    "# Cập nhập lại giá trị\n",
    "print('---------------Cập nhập lại giá trị --------------------')\n",
    "names[0] = 'Tom'\n",
    "print(names)\n"
   ]
  },
  {
   "cell_type": "markdown",
   "id": "408f4f77",
   "metadata": {},
   "source": [
    "## Find the largest number in a list"
   ]
  },
  {
   "cell_type": "code",
   "execution_count": 15,
   "id": "ab359c85",
   "metadata": {},
   "outputs": [
    {
     "name": "stdout",
     "output_type": "stream",
     "text": [
      "10\n"
     ]
    }
   ],
   "source": [
    "numbers = [3, 6, 2, 8, 4, 10]\n",
    "max = numbers[0]\n",
    "for number in numbers:\n",
    "    if number > max:\n",
    "        max = number\n",
    "print(max)"
   ]
  },
  {
   "cell_type": "markdown",
   "id": "ebb8617d",
   "metadata": {},
   "source": [
    "# 2D List\n",
    "Biểu diễn dạng Matrix như này:  \n",
    "```plaintext\n",
    "    1 2 3\n",
    "    4 5 6\n",
    "    7 8 9\n",
    "```\n",
    "Thì ta có code 2D List như sau:  \n",
    "```python\n",
    "matrix = [\n",
    "    [1, 2, 3],\n",
    "    [4, 5, 6],\n",
    "    [7, 8, 9]\n",
    "]\n",
    "print(matrix)\n",
    "```\n",
    "Modify: `matrix[0][1] = 20`\n"
   ]
  },
  {
   "cell_type": "code",
   "execution_count": 18,
   "id": "90838a56",
   "metadata": {},
   "outputs": [
    {
     "name": "stdout",
     "output_type": "stream",
     "text": [
      "1\n",
      "2\n",
      "3\n"
     ]
    }
   ],
   "source": [
    "matrix = [\n",
    "    [1, 2, 3],\n",
    "    [4, 5, 6],\n",
    "    [7, 8, 9]\n",
    "]\n",
    "for row in matrix:\n",
    "    for item in row:\n",
    "        print(item)\n",
    "    break"
   ]
  },
  {
   "cell_type": "markdown",
   "id": "e9b3918e",
   "metadata": {},
   "source": [
    "# List Method\n",
    "## https://www.w3schools.com/python/python_ref_list.asp\n",
    "```plaintext\n",
    "Python has a set of built-in methods that you can use on lists/arrays.\n",
    "\n",
    "Method\t        Description\n",
    "append()\tAdds an element at the end of the list\n",
    "clear()\t        Removes all the elements from the list\n",
    "copy()\t        Returns a copy of the list\n",
    "count()\t        Returns the number of elements with the specified value\n",
    "extend()\tAdd the elements of a list (or any iterable), to the end of the current list\n",
    "index()\t        Returns the index of the first element with the specified value\n",
    "insert()\tAdds an element at the specified position\n",
    "pop()\t        Removes the element at the specified position\n",
    "remove()\tRemoves the first item with the specified value\n",
    "reverse()\tReverses the order of the list\n",
    "sort()\t        Sorts the list\n",
    "```"
   ]
  },
  {
   "cell_type": "code",
   "execution_count": null,
   "id": "f5805169",
   "metadata": {},
   "outputs": [
    {
     "name": "stdout",
     "output_type": "stream",
     "text": [
      "[5, 2, 1, 7, 4, 20]\n"
     ]
    }
   ],
   "source": [
    "numbers = [5, 2, 1, 7, 4]\n",
    "numbers.append(20)\n",
    "print(numbers)"
   ]
  },
  {
   "cell_type": "code",
   "execution_count": 32,
   "id": "132705d4",
   "metadata": {},
   "outputs": [
    {
     "name": "stdout",
     "output_type": "stream",
     "text": [
      "[10, 5, 2, 1, 7, 4]\n"
     ]
    }
   ],
   "source": [
    "numbers = [5, 2, 1, 7, 4]\n",
    "numbers.insert(0, 10)\n",
    "print(numbers)"
   ]
  },
  {
   "cell_type": "code",
   "execution_count": 33,
   "id": "e9bd21c0",
   "metadata": {},
   "outputs": [
    {
     "name": "stdout",
     "output_type": "stream",
     "text": [
      "[2, 1, 7, 4]\n"
     ]
    }
   ],
   "source": [
    "numbers = [5, 2, 1, 7, 4]\n",
    "numbers.remove(5)\n",
    "print(numbers)"
   ]
  },
  {
   "cell_type": "code",
   "execution_count": 34,
   "id": "7b64910a",
   "metadata": {},
   "outputs": [
    {
     "name": "stdout",
     "output_type": "stream",
     "text": [
      "[]\n"
     ]
    }
   ],
   "source": [
    "numbers = [5, 2, 1, 7, 4]\n",
    "numbers.clear()\n",
    "print(numbers)"
   ]
  },
  {
   "cell_type": "code",
   "execution_count": 38,
   "id": "87b3c8e9",
   "metadata": {},
   "outputs": [
    {
     "name": "stdout",
     "output_type": "stream",
     "text": [
      "[2, 1, 7]\n"
     ]
    }
   ],
   "source": [
    "numbers = [5, 2, 1, 7, 4]\n",
    "numbers.pop() # để vậy mặc định là bỏ phần tử cuối cùng\n",
    "numbers.pop(0) # bỏ phần tử index = 0\n",
    "print(numbers)"
   ]
  },
  {
   "cell_type": "code",
   "execution_count": 39,
   "id": "f424d812",
   "metadata": {},
   "outputs": [
    {
     "name": "stdout",
     "output_type": "stream",
     "text": [
      "[1, 2, 4, 5, 7]\n"
     ]
    }
   ],
   "source": [
    "numbers = [5, 2, 1, 7, 4]\n",
    "numbers.sort()\n",
    "print(numbers)"
   ]
  },
  {
   "cell_type": "markdown",
   "id": "b02b7aeb",
   "metadata": {},
   "source": [
    "## Remove the dulicates in a list"
   ]
  },
  {
   "cell_type": "code",
   "execution_count": 43,
   "id": "77b5eb7a",
   "metadata": {},
   "outputs": [
    {
     "name": "stdout",
     "output_type": "stream",
     "text": [
      "[2, 4, 6, 3, 1]\n"
     ]
    }
   ],
   "source": [
    "numbers = [2, 2, 4, 6, 3, 4, 6, 1]\n",
    "uniques = []\n",
    "for number in numbers:\n",
    "    if number not in uniques:\n",
    "        uniques.append(number)\n",
    "print(uniques)"
   ]
  }
 ],
 "metadata": {
  "kernelspec": {
   "display_name": "Python 3",
   "language": "python",
   "name": "python3"
  },
  "language_info": {
   "codemirror_mode": {
    "name": "ipython",
    "version": 3
   },
   "file_extension": ".py",
   "mimetype": "text/x-python",
   "name": "python",
   "nbconvert_exporter": "python",
   "pygments_lexer": "ipython3",
   "version": "3.12.8"
  }
 },
 "nbformat": 4,
 "nbformat_minor": 5
}
